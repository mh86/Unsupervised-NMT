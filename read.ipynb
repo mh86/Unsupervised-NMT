{
 "cells": [
  {
   "cell_type": "markdown",
   "metadata": {},
   "source": [
    "## Description\n",
    "We will attempt to prepare data for an Unsupervised Neural Machine Translation between English and French.  The data used will be from [ACL 2014 NINTH WORKSHOP ON STATISTICAL MACHINE TRANSLATION](http://www.statmt.org/wmt14/translation-task.html), specifically monolingual data news crawl data from 2007:\n",
    "\n",
    "[English](http://www.statmt.org/wmt14/training-monolingual-news-crawl/news.2007.en.shuffled.gz)\n",
    "\n",
    "[French](http://www.statmt.org/wmt14/training-monolingual-news-crawl/news.2007.fr.shuffled.gz)\n"
   ]
  },
  {
   "cell_type": "markdown",
   "metadata": {},
   "source": [
    "### Read the English data\n",
    "After unzipping to an appropriate folder, we will look at some sample data:"
   ]
  },
  {
   "cell_type": "code",
   "execution_count": 14,
   "metadata": {},
   "outputs": [
    {
     "name": "stdout",
     "output_type": "stream",
     "text": [
      "Dave Aneckstein, Simmons Research, an Experian Company\n",
      "\n",
      "They have not been charged or formally arrested.\n",
      "\n",
      "“Iran isn’t making an atomic bomb, not at all,” Chavez said Monday.\n",
      "\n",
      "So far, Nintendo has shipped 9.3 million units of the Wii, which was introduced last year.\n",
      "\n",
      "It is estimated that around two million people in England under the age of 65 fall into a high-risk category making them eligible for a flu vaccine.\n",
      "\n",
      "Flesch, who held the 36-hole lead at Reno in late July and went on to win, took the lead with a 17-foot birdie putt at the par-4 second hole.\n",
      "\n",
      "It's as simple as that,\" said Wie, who will tee off in today's LPGA Samsung World Championship first round on her 18th birthday.\n",
      "\n",
      "The Japanese-made tin robots have blocky heads and moveable arms and legs.\n",
      "\n",
      "If they could no longer be the nominees, then they would be pundits of the first order — men with credibility on Oval Office matters by dint of once sitting in the chair themselves.\n",
      "\n",
      "Free Challenge kits have a CD and brochure from Dr. Ian, menu and fitness advice and a pedometer to count steps.\n",
      "\n"
     ]
    }
   ],
   "source": [
    "data_path = \"news.2007.en.shuffled\"\n",
    "def display_data(file_path):\n",
    "    with open(file_path, mode='r', encoding='utf-8') as f:\n",
    "        count = 0\n",
    "        for line in f:\n",
    "            print(line)\n",
    "            count += 1\n",
    "            if count == 10:\n",
    "                break\n",
    "\n",
    "display_data(data_path)"
   ]
  },
  {
   "cell_type": "code",
   "execution_count": null,
   "metadata": {},
   "outputs": [],
   "source": []
  },
  {
   "cell_type": "markdown",
   "metadata": {},
   "source": [
    "Then we tokenize the data."
   ]
  },
  {
   "cell_type": "code",
   "execution_count": 15,
   "metadata": {},
   "outputs": [
    {
     "name": "stdout",
     "output_type": "stream",
     "text": [
      "{'Dave': [[0], 1], 'Aneckstein,': [[1], 1], 'Simmons': [[2], 1], 'Research,': [[3], 1], 'an': [[4, 18], 2], 'Experian': [[5], 1], 'Company': [[6], 1], 'They': [[7], 1], 'have': [[8], 1], 'not': [[9, 21], 2], 'been': [[10], 1], 'charged': [[11], 1], 'or': [[12], 1], 'formally': [[13], 1], 'arrested.': [[14], 1], '“Iran': [[15], 1], 'isn’t': [[16], 1], 'making': [[17, 63], 2], 'atomic': [[19], 1], 'bomb,': [[20], 1], 'at': [[22], 1], 'all,”': [[23], 1], 'Chavez': [[24], 1], 'said': [[25], 1], 'Monday.': [[26], 1], 'So': [[27], 1], 'far,': [[28], 1], 'Nintendo': [[29], 1], 'has': [[30], 1], 'shipped': [[31], 1], '9.3': [[32], 1], 'million': [[33, 49], 2], 'units': [[34], 1], 'of': [[35, 56], 2], 'the': [[36, 54], 2], 'Wii,': [[37], 1], 'which': [[38], 1], 'was': [[39], 1], 'introduced': [[40], 1], 'last': [[41], 1], 'year.': [[42], 1], 'It': [[43], 1], 'is': [[44], 1], 'estimated': [[45], 1], 'that': [[46], 1], 'around': [[47], 1], 'two': [[48], 1], 'people': [[50], 1], 'in': [[51], 1], 'England': [[52], 1], 'under': [[53], 1], 'age': [[55], 1], '65': [[57], 1], 'fall': [[58], 1], 'into': [[59], 1], 'a': [[60, 67], 2], 'high-risk': [[61], 1], 'category': [[62], 1], 'them': [[64], 1], 'eligible': [[65], 1], 'for': [[66], 1], 'flu': [[68], 1], 'vaccine.': [[69], 1]}\n"
     ]
    }
   ],
   "source": [
    "def tokenizer(file_path):\n",
    "    word_ind_count = {}\n",
    "    with open(data_path, mode='r', encoding='utf-8') as f:\n",
    "        count = 0\n",
    "        idx = 0 # indexing the occurence of a word rather than reading everything at once\n",
    "        for line in f:\n",
    "            line = line.rstrip().split()\n",
    "            for word in line:\n",
    "                if word in word_ind_count:\n",
    "                    word_ind_count[word][1] += 1\n",
    "                    word_ind_count[word][0].append(idx)\n",
    "                    idx += 1\n",
    "                else:\n",
    "                    word_ind_count[word] = [[idx], 1]\n",
    "                    idx += 1\n",
    "            count += 1\n",
    "            if count == 5:\n",
    "                # Displaying a portion of the dictionary, rather than showing the entire thing\n",
    "                print(word_ind_count)\n",
    "            if count == 50000:\n",
    "                break\n",
    "    return word_ind_count\n",
    "\n",
    "word_ind_count = tokenizer(data_path)"
   ]
  },
  {
   "cell_type": "markdown",
   "metadata": {},
   "source": [
    "Rather than constructing this type of data for our tokens, we will use existing tokenizers provided by Facebook's tokenizer ([codes_en_fr](https://dl.fbaipublicfiles.com/XLM/codes_enfr), [vocab_en_fr](https://dl.fbaipublicfiles.com/XLM/vocab_enfr)).  For now, we will work with the above constructed dictionary.\n",
    "\n",
    "We look at the frequency of words within the first 50000 lines."
   ]
  },
  {
   "cell_type": "code",
   "execution_count": 16,
   "metadata": {},
   "outputs": [
    {
     "data": {
      "image/png": "[encoded data removed]",
      "text/plain": [
       "<Figure size 432x288 with 1 Axes>"
      ]
     },
     "metadata": {
      "needs_background": "light"
     },
     "output_type": "display_data"
    }
   ],
   "source": [
    "def freq_hist(word_dict):\n",
    "    import matplotlib.pyplot as plt\n",
    "    %matplotlib inline\n",
    "\n",
    "    freqs = [v[1] for _, v in word_dict.items()]\n",
    "    freqs.sort()\n",
    "    N = len(freqs)\n",
    "    plt.hist(freqs[int(.05*N):N-int(.05*N)], 50) # Showing the middle 95% of the frequencies\n",
    "    plt.show()\n",
    "\n",
    "freq_hist(word_ind_count)"
   ]
  },
  {
   "cell_type": "markdown",
   "metadata": {},
   "source": [
    "### French data\n",
    "We do the same for the French news craw data."
   ]
  },
  {
   "cell_type": "code",
   "execution_count": 19,
   "metadata": {},
   "outputs": [
    {
     "name": "stdout",
     "output_type": "stream",
     "text": [
      "Ils passent tous trois le premier tour avec succès.\n",
      "\n",
      "Il est notamment envisagé de le faire sortir des murs de l'établissement -ce qui permettrait une plus grande confidentialité- et de l'ouvrir aux jeunes non-lycéens.\n",
      "\n",
      "Erstein : pharmacie du Centre, 15, rue Mercière.\n",
      "\n",
      "Ce dernier est rentré à son domicile, est revenu, armé d'une masse, qu'il a utilisée pour détruire le véhicule.\n",
      "\n",
      "Autre belle rencontre, ce jeune et talentueux Louis-Michel Liger Belair qui, comme son ami Sylvain Pitiot (au Clos de Tart), sait rendre un hommage particulièrement sensible à ses terroirs du côté de Vosnes-Romanée.\n",
      "\n",
      "Vendredi, des cérémonies se sont déroulées à Montréal, Toronto et Vancouver.\n",
      "\n",
      "Veillée de Noël\n",
      "\n",
      "Tous les postes du budget spatial allemand vont connaître une hausse sensible en 2008, à commencer par la dotation annuelle du DLR qui atteint 265,56 millions (contre 241 millions en 2007).\n",
      "\n",
      "Mundolsheim : pharmacie Lossel, 1 rue du Général Leclerc.\n",
      "\n",
      "Pendant que les Canadiens dorment paisiblement, cependant, ils mettent leurs aptitudes à profit pour gérer plusieurs tâches à la fois et pour s'adonner à plusieurs activités nocturnes...\n",
      "\n"
     ]
    }
   ],
   "source": [
    "fr_data_path = \"news.2007.fr.shuffled\"\n",
    "display_data(fr_data_path)"
   ]
  },
  {
   "cell_type": "code",
   "execution_count": 20,
   "metadata": {},
   "outputs": [
    {
     "name": "stdout",
     "output_type": "stream",
     "text": [
      "{'Dave': [[0], 1], 'Aneckstein,': [[1], 1], 'Simmons': [[2], 1], 'Research,': [[3], 1], 'an': [[4, 18], 2], 'Experian': [[5], 1], 'Company': [[6], 1], 'They': [[7], 1], 'have': [[8], 1], 'not': [[9, 21], 2], 'been': [[10], 1], 'charged': [[11], 1], 'or': [[12], 1], 'formally': [[13], 1], 'arrested.': [[14], 1], '“Iran': [[15], 1], 'isn’t': [[16], 1], 'making': [[17, 63], 2], 'atomic': [[19], 1], 'bomb,': [[20], 1], 'at': [[22], 1], 'all,”': [[23], 1], 'Chavez': [[24], 1], 'said': [[25], 1], 'Monday.': [[26], 1], 'So': [[27], 1], 'far,': [[28], 1], 'Nintendo': [[29], 1], 'has': [[30], 1], 'shipped': [[31], 1], '9.3': [[32], 1], 'million': [[33, 49], 2], 'units': [[34], 1], 'of': [[35, 56], 2], 'the': [[36, 54], 2], 'Wii,': [[37], 1], 'which': [[38], 1], 'was': [[39], 1], 'introduced': [[40], 1], 'last': [[41], 1], 'year.': [[42], 1], 'It': [[43], 1], 'is': [[44], 1], 'estimated': [[45], 1], 'that': [[46], 1], 'around': [[47], 1], 'two': [[48], 1], 'people': [[50], 1], 'in': [[51], 1], 'England': [[52], 1], 'under': [[53], 1], 'age': [[55], 1], '65': [[57], 1], 'fall': [[58], 1], 'into': [[59], 1], 'a': [[60, 67], 2], 'high-risk': [[61], 1], 'category': [[62], 1], 'them': [[64], 1], 'eligible': [[65], 1], 'for': [[66], 1], 'flu': [[68], 1], 'vaccine.': [[69], 1]}\n"
     ]
    }
   ],
   "source": [
    "fr_word_ind_count = tokenizer(fr_data_path)"
   ]
  },
  {
   "cell_type": "code",
   "execution_count": 21,
   "metadata": {},
   "outputs": [
    {
     "data": {
      "image/png": "[encoded data removed]",
      "text/plain": [
       "<Figure size 432x288 with 1 Axes>"
      ]
     },
     "metadata": {
      "needs_background": "light"
     },
     "output_type": "display_data"
    }
   ],
   "source": [
    "freq_hist(fr_word_ind_count)"
   ]
  },
  {
   "cell_type": "code",
   "execution_count": null,
   "metadata": {},
   "outputs": [],
   "source": []
  }
 ],
 "metadata": {
  "kernelspec": {
   "display_name": "Python 3",
   "language": "python",
   "name": "python3"
  },
  "language_info": {
   "codemirror_mode": {
    "name": "ipython",
    "version": 3
   },
   "file_extension": ".py",
   "mimetype": "text/x-python",
   "name": "python",
   "nbconvert_exporter": "python",
   "pygments_lexer": "ipython3",
   "version": "3.6.9"
  }
 },
 "nbformat": 4,
 "nbformat_minor": 4
}
